{
 "cells": [
  {
   "cell_type": "markdown",
   "source": [
    "# Summary\n",
    "\n",
    "So in the last 25 minutes we have covered a lot of topics dealing with data access and manipulation using Python.  \n",
    "\n",
    "The important things to take away:\n",
    "* Look in PyPI - quite often someone will have already created a library to do the types of manipulation/data processing that you are trying to do.  Use it, if it needs augmentation raise a Pull Request to add/fix or whatever.  The community is stronger when everyone participates\n",
    "* DRY up your code - Don't Repeat Yourself, try and create functions for common tasks; it cuts down the amount of code you need to test and maintain.  That's important as global search and replace is a massive time wasting effort\n",
    "* Look at some of the capabilities of your tools; most IDEs have some sort of support for code completion, inline validation, etc.  It's not laziness to take advantage of these capabilities.  Adding typing is a boost, but not required.\n",
    "\n",
    "\n",
    "If this was helpful, then great!  The code is out here: [phuse-python-sde-sep2021](https://github.com/phuse-org/phuse-python-sde-sep2021) \n",
    "\n",
    "If it needs something fixed or added then: \n",
    "* raise an Issue on the repository and I can add some more examples\n",
    "* raise a Pull Request on the repository and let's make it better"
   ],
   "metadata": {}
  }
 ],
 "metadata": {
  "orig_nbformat": 4,
  "language_info": {
   "name": "python"
  }
 },
 "nbformat": 4,
 "nbformat_minor": 2
}