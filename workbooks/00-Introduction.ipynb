{
 "cells": [
  {
   "cell_type": "markdown",
   "source": [
    "# PHUSE SDE September 2023 - Python Workshop\n",
    "\n",
    "This session builds on top of the Session from the PHUSE EU Connect in 2020; there won't be much introductory content in this session - I refer you to the original material for that type of content.   This material will be made available on the PHUSE GitHub for you to refer to at your leisure (and maybe raise a Pull Request against)\n",
    "\n",
    "This won't be conducted as a series of slides - we are using Jupyter Notebooks to document and execute the code so you can follow through at your own pace (and maybe update it to suit your purposes)\n",
    "\n",
    "What I want to focus on in this session:\n",
    "* Writing and using functions to avoid repeating yourself\n",
    "* Understanding and using modules\n",
    "* Accessing data from the web\n",
    "* Using Application Programming Interfaces (APIs) to access data as needed\n",
    "* Using Pandas for simple loading of and manipulation of data\n",
    "\n",
    "Feel free to go beyond what we do here, we are deliberately going broad and shallow. \n",
    "\n",
    "Lets go! [Loading Data](01-Loading-data.ipynb)\n",
    "\n"
   ],
   "metadata": {}
  }
 ],
 "metadata": {
  "orig_nbformat": 4,
  "language_info": {
   "name": "python"
  }
 },
 "nbformat": 4,
 "nbformat_minor": 2
}