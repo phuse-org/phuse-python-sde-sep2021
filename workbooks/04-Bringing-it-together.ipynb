{
 "cells": [
  {
   "cell_type": "markdown",
   "source": [
    "# Now, bringing it all together \n",
    "\n",
    "Now that we can demonstrate the loading of the data (XPT) and the metadata (APIs) how do we link it all together?\n",
    "\n",
    "First off, what questions are we looking to solve?\n",
    "* Can I get the metadata for a column in my SDTM dataset?\n",
    "* Can I work out what version of SDTM was used to build the SDTM dataset?\n",
    "* Can I confirm all the coded terms in my dataset?\n",
    "* Can I work out how to convert from the current version to a 'newer' version?\n"
   ],
   "metadata": {}
  },
  {
   "cell_type": "code",
   "execution_count": 1,
   "source": [
    "# First off - imports\n",
    "import pandas as pd\n",
    "from pandas import DataFrame\n",
    "\n",
    "# Don't repeat yourself.....\n",
    "from utils import load_cdiscpilot_dataset"
   ],
   "outputs": [],
   "metadata": {}
  },
  {
   "cell_type": "code",
   "execution_count": 2,
   "source": [
    "# Can I get the metadata for a column in my SDTM dataset?\n",
    "\n",
    "# first off, load the dataset\n",
    "\n",
    "# Declare the type of the variable (optional)\n",
    "dm: DataFrame\n",
    "dm = load_cdiscpilot_dataset('DM')\n",
    "\n",
    "# Get the columns\n",
    "published_columns = list(dm.columns)"
   ],
   "outputs": [],
   "metadata": {}
  },
  {
   "cell_type": "code",
   "execution_count": 3,
   "source": [
    "# Get the current set of columns\n",
    "print(published_columns)"
   ],
   "outputs": [
    {
     "output_type": "stream",
     "name": "stdout",
     "text": [
      "['STUDYID', 'DOMAIN', 'USUBJID', 'SUBJID', 'RFSTDTC', 'RFENDTC', 'RFXSTDTC', 'RFXENDTC', 'RFICDTC', 'RFPENDTC', 'DTHDTC', 'DTHFL', 'SITEID', 'AGE', 'AGEU', 'SEX', 'RACE', 'ETHNIC', 'ARMCD', 'ARM', 'ACTARMCD', 'ACTARM', 'COUNTRY', 'DMDTC', 'DMDY']\n"
     ]
    }
   ],
   "metadata": {}
  },
  {
   "cell_type": "code",
   "execution_count": 5,
   "source": [
    "# now, to iterate over versions \n",
    "from dotenv import load_dotenv\n",
    "load_dotenv()\n",
    "import os\n",
    "from client import LibraryClient\n",
    "\n",
    "client = LibraryClient(os.getenv('CDISC_LIBRARY_API_TOKEN'))\n",
    "\n",
    "# create a dataset for comparison\n",
    "variables_by_version = {}\n",
    "\n",
    "sdtm_ig_versions = client.get_sdtmig_versions()\n",
    "for version in sdtm_ig_versions:\n",
    "    # carve out the version\n",
    "    version_id = version.get('href').split(\"/\")[-1]\n",
    "    if not str.isdigit(version_id[0]):\n",
    "        # strip out the associated persons, devices IGs\n",
    "        continue\n",
    "    # get the dataset\n",
    "    dataset = client.get_ig_dataset_by_version(version_id, \"DM\")\n",
    "    for variable in dataset.get('datasetVariables'):\n",
    "        # setdefault is like upsert for a dictionary\n",
    "        variables_by_version.setdefault(version_id, []).append(variable.get('name'))\n",
    "\n"
   ],
   "outputs": [],
   "metadata": {}
  },
  {
   "cell_type": "code",
   "execution_count": 11,
   "source": [
    "# now we can iterate over the versions and compare the dataset variable\n",
    "for version, items in variables_by_version.items():\n",
    "    print(f\"Checking {version}\")\n",
    "    if set(items) == set(published_columns):\n",
    "        print(f\"Version {version} is a candidate\")\n",
    "    else:\n",
    "        print(f\"Version {version} is not a candidate\")\n",
    "        if set(items) - set(published_columns): \n",
    "            print(f\"Variables missing from Dataset: {set(items) - set(published_columns)}\")\n",
    "        if set(published_columns) - set(items):\n",
    "            print(f\"Variables unexpected in Dataset: {set(published_columns) - set(items)}\")\n",
    "\n",
    "# we leave the equivalent for the SDTM model as an exercise for the reader.  There may even be a helper on the client!\n",
    "        "
   ],
   "outputs": [
    {
     "output_type": "stream",
     "name": "stdout",
     "text": [
      "Checking 3-1-2\n",
      "Version 3-1-2 is not a candidate\n",
      "Variables missing from Dataset: {'BRTHDTC', 'INVID', 'INVNAM'}\n",
      "Variables unexpected from Dataset: {'RFXENDTC', 'RFXSTDTC', 'DTHFL', 'ACTARMCD', 'DTHDTC', 'RFPENDTC', 'RFICDTC', 'ACTARM'}\n",
      "Checking 3-1-3\n",
      "Version 3-1-3 is not a candidate\n",
      "Variables missing from Dataset: {'BRTHDTC', 'INVID', 'INVNAM'}\n",
      "Checking 3-2\n",
      "Version 3-2 is not a candidate\n",
      "Variables missing from Dataset: {'BRTHDTC', 'INVID', 'INVNAM'}\n",
      "Checking 3-3\n",
      "Version 3-3 is not a candidate\n",
      "Variables missing from Dataset: {'ACTARMUD', 'BRTHDTC', 'ARMNRS', 'INVID', 'INVNAM'}\n",
      "Checking 3-4\n",
      "Version 3-4 is not a candidate\n",
      "Variables missing from Dataset: {'ACTARMUD', 'BRTHDTC', 'ARMNRS', 'INVID', 'INVNAM'}\n"
     ]
    }
   ],
   "metadata": {}
  },
  {
   "cell_type": "markdown",
   "source": [
    "So, that's a little weird!  The Define.xml shows that the version of SDTM is 3-1-2, but there are colummns present in the dataset from a more recent version.  The missing BRTHDTC and INV-- columns could be reconciled as an artifact of the dataset anonymisation."
   ],
   "metadata": {}
  },
  {
   "cell_type": "markdown",
   "source": [
    "# What's next\n",
    "[Wrap Up](./05-Wrap-it-up.ipynb)\n",
    "\n"
   ],
   "metadata": {}
  }
 ],
 "metadata": {
  "orig_nbformat": 4,
  "language_info": {
   "name": "python",
   "version": "3.9.6",
   "mimetype": "text/x-python",
   "codemirror_mode": {
    "name": "ipython",
    "version": 3
   },
   "pygments_lexer": "ipython3",
   "nbconvert_exporter": "python",
   "file_extension": ".py"
  },
  "kernelspec": {
   "name": "python3",
   "display_name": "Python 3.9.6 64-bit ('phuse-python-sde-sep2021-nm3hVWFa': pipenv)"
  },
  "interpreter": {
   "hash": "80005f1e69ed79cadee62d99146642845dc91d593a729d8cfdee00bf657c6910"
  }
 },
 "nbformat": 4,
 "nbformat_minor": 2
}