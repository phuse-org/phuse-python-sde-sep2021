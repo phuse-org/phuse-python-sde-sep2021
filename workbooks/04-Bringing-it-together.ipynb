{
 "cells": [
  {
   "cell_type": "markdown",
   "source": [
    "# Now, bringing it all together \n",
    "\n",
    "Now that we can demonstrate the loading of the data (XPT) and the metadata (APIs) how do we link it all together?\n",
    "\n",
    "First off, what questions are we looking to solve?\n",
    "* Can I work out what version of SDTM was used to build the SDTM dataset?\n",
    "* Can I get the metadata for a column in my SDTM dataset?\n",
    "* Can I confirm all the coded terms in my dataset?\n"
   ],
   "metadata": {}
  },
  {
   "cell_type": "code",
   "execution_count": null,
   "source": [
    "# First off - imports\n",
    "import pandas as pd\n",
    "from pandas import DataFrame\n",
    "\n",
    "# Don't repeat yourself.....\n",
    "from utils import load_cdiscpilot_dataset"
   ],
   "outputs": [],
   "metadata": {}
  },
  {
   "cell_type": "code",
   "execution_count": null,
   "source": [
    "# Can I get the metadata for a column in my SDTM dataset?\n",
    "\n",
    "# first off, load the dataset\n",
    "\n",
    "# Declare the type of the variable (optional)\n",
    "dm: DataFrame\n",
    "dm = load_cdiscpilot_dataset('DM')\n",
    "\n",
    "# Get the columns\n",
    "published_columns = list(dm.columns)"
   ],
   "outputs": [],
   "metadata": {}
  },
  {
   "cell_type": "code",
   "execution_count": null,
   "source": [
    "# Get the current set of columns\n",
    "print(published_columns)"
   ],
   "outputs": [],
   "metadata": {}
  },
  {
   "cell_type": "code",
   "execution_count": null,
   "source": [
    "# now, to iterate over versions \n",
    "from dotenv import load_dotenv\n",
    "load_dotenv()\n",
    "import os\n",
    "from client import LibraryClient\n",
    "\n",
    "client = LibraryClient(os.getenv('CDISC_LIBRARY_API_TOKEN'))\n",
    "\n",
    "# create a dataset for comparison\n",
    "variables_by_version = {}\n",
    "\n",
    "sdtm_ig_versions = client.get_sdtmig_versions()\n",
    "for version in sdtm_ig_versions:\n",
    "    # carve out the version\n",
    "    version_id = version.get('href').split(\"/\")[-1]\n",
    "    if not str.isdigit(version_id[0]):\n",
    "        # strip out the associated persons, devices IGs\n",
    "        continue\n",
    "    # get the dataset\n",
    "    dataset = client.get_ig_dataset_by_version(version_id, \"DM\")\n",
    "    for variable in dataset.get('datasetVariables'):\n",
    "        # setdefault is like upsert for a dictionary\n",
    "        variables_by_version.setdefault(version_id, []).append(variable.get('name'))\n",
    "\n"
   ],
   "outputs": [],
   "metadata": {}
  },
  {
   "cell_type": "code",
   "execution_count": null,
   "source": [
    "# now we can iterate over the versions and compare the dataset variable\n",
    "for version, items in variables_by_version.items():\n",
    "    print(f\"Checking {version}\")\n",
    "    if set(items) == set(published_columns):\n",
    "        print(f\"Version {version} is a candidate\")\n",
    "    else:\n",
    "        print(f\"Version {version} is not a candidate\")\n",
    "        if set(items) - set(published_columns): \n",
    "            print(f\"Variables missing from Dataset: {set(items) - set(published_columns)}\")\n",
    "        if set(published_columns) - set(items):\n",
    "            print(f\"Variables unexpected in Dataset: {set(published_columns) - set(items)}\")\n",
    "\n",
    "# we leave the equivalent for the SDTM model as an exercise for the reader.  There may even be a helper on the client!\n",
    "        "
   ],
   "outputs": [],
   "metadata": {}
  },
  {
   "cell_type": "markdown",
   "source": [
    "So, that's a little weird!  The Define.xml shows that the version of SDTM is 3-1-2, but there are colummns present in the dataset from a more recent version.  The missing BRTHDTC and INV-- columns could be reconciled as an artifact of the dataset anonymisation."
   ],
   "metadata": {}
  },
  {
   "cell_type": "code",
   "execution_count": null,
   "source": [
    "# given we were told it was 3-1-2 in the define, let's iterate through the columns\n",
    "import pprint\n",
    "dm_upstream = client.get_ig_dataset_by_version(\"3-1-2\", \"DM\")\n",
    "\n",
    "# load the specifications\n",
    "specifications = {}\n",
    "for dataset_variable in dm_upstream.get('datasetVariables'):\n",
    "    specifications[dataset_variable.get('name')] = dataset_variable\n",
    "\n",
    "coalesced = []\n",
    "# iterate over our columns\n",
    "for column in published_columns:\n",
    "    metadata = {}\n",
    "    if column in specifications:\n",
    "        print(f\"** {column}\")\n",
    "        for key, value in specifications.get(column).items():\n",
    "            if key == '_links':\n",
    "                # the codelist is bound as a link (as it should be) rather than a simple attribute\n",
    "                if 'codelist' in value:\n",
    "                    print(f\"codelist: {value.get('codelist')[0].get('href').split('/')[-1]}\")\n",
    "                    metadata[\"codelist\"] = value.get('codelist')[0].get('href').split('/')[-1]\n",
    "            else:\n",
    "                metadata[key] = value\n",
    "                print(f\"{key}: {value}\")\n",
    "        coalesced.append(metadata)\n",
    "    else:\n",
    "        print(f\"Column {column} not found\")\n",
    "    "
   ],
   "outputs": [],
   "metadata": {}
  },
  {
   "cell_type": "code",
   "execution_count": null,
   "source": [
    "# if you don't want to process the JSON you can convert it to a dataframe\n",
    "from pandas import DataFrame\n",
    "\n",
    "df = pd.json_normalize(coalesced)\n",
    "df.set_index([\"name\"])\n",
    "df.to_html('temp.html')\n"
   ],
   "outputs": [],
   "metadata": {}
  },
  {
   "cell_type": "code",
   "execution_count": null,
   "source": [
    "# retrieving the codelist values\n",
    "\n",
    "# for example for AGEU\n",
    "ageu = [x for x in dm_upstream.get('datasetVariables') if x.get('name') == 'AGEU'][0]\n",
    "\n",
    "# we can use a function to make following links easier\n",
    "age_codelist = client.get_link(ageu.get('_links').get('codelist')[0])\n",
    "print(f\"There are {len(age_codelist.get('_links').get('versions'))} versions of the AGEU codelist\")\n",
    "\n",
    "# get the current values\n",
    "set_values = dm[\"AGEU\"].unique()\n",
    "\n",
    "# get the last version\n",
    "ageu_last = client.get_link(age_codelist.get('_links').get('versions')[-1])\n",
    "submission_values = [x.get('submissionValue') for x in ageu_last.get('terms')]\n",
    "\n",
    "# check\n",
    "for dataset_ageu_value in set_values:\n",
    "    if dataset_ageu_value not in submission_values:\n",
    "        print(f\"Codelist value {dataset_ageu_value} not found\")\n"
   ],
   "outputs": [],
   "metadata": {}
  },
  {
   "cell_type": "code",
   "execution_count": null,
   "source": [
    "# retrieving the codelist values\n",
    "VAR = \"RACE\"\n",
    "\n",
    "# for example for VAR\n",
    "codedterm = [x for x in dm_upstream.get('datasetVariables') if x.get('name') == VAR][0]\n",
    "\n",
    "# we can use a function to make following links easier\n",
    "codelist = client.get_link(codedterm.get('_links').get('codelist')[0])\n",
    "print(f\"There are {len(codelist.get('_links').get('versions'))} versions of the {VAR} codelist\")\n",
    "\n",
    "# get the current values\n",
    "set_values = dm[VAR].unique()\n",
    "\n",
    "# get the last version\n",
    "_last = client.get_link(codelist.get('_links').get('versions')[-1])\n",
    "_values = [x.get('submissionValue') for x in _last.get('terms')]\n",
    "\n",
    "# check\n",
    "for dataset_codelist_value in set_values:\n",
    "    if dataset_codelist_value not in _values:\n",
    "        print(f\"Codelist value {dataset_codelist_value} not found\")\n",
    "\n",
    "# all of this can be rolled into a function"
   ],
   "outputs": [],
   "metadata": {}
  },
  {
   "cell_type": "markdown",
   "source": [
    "# What's next\n",
    "[Wrap Up](./05-Wrap-it-up.ipynb)\n",
    "\n"
   ],
   "metadata": {}
  }
 ],
 "metadata": {
  "orig_nbformat": 4,
  "language_info": {
   "name": "python",
   "version": "3.9.6",
   "mimetype": "text/x-python",
   "codemirror_mode": {
    "name": "ipython",
    "version": 3
   },
   "pygments_lexer": "ipython3",
   "nbconvert_exporter": "python",
   "file_extension": ".py"
  },
  "kernelspec": {
   "name": "python3",
   "display_name": "Python 3.9.6 64-bit ('phuse-python-sde-sep2021-nm3hVWFa': pipenv)"
  },
  "interpreter": {
   "hash": "80005f1e69ed79cadee62d99146642845dc91d593a729d8cfdee00bf657c6910"
  }
 },
 "nbformat": 4,
 "nbformat_minor": 2
}