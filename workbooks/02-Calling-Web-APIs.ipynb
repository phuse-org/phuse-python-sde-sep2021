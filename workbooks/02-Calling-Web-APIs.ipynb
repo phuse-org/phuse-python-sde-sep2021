{
 "cells": [
  {
   "cell_type": "markdown",
   "source": [
    "# Calling Web Application Programming Interfaces (APIs)\n",
    "\n",
    "Many of the specifications we need (increasingly so) are not totally static.  Relying on a static file for importing specifications leaves us open to: \n",
    "* missing out on updates\n",
    "* inability to link/reuse \n",
    "\n",
    "\n",
    "Many of the core resources for Clinical Research standards management are available via the web using Universal Resource Locations (URL).  \n",
    "\n",
    "In general there is a request-response pattern for accessing web resources; we make a request to the service and get a response back.  Checking the response to make sure the request worked is key"
   ],
   "metadata": {}
  },
  {
   "cell_type": "code",
   "execution_count": null,
   "source": [
    "# import a library for making web requeststs\n",
    "import requests\n",
    "\n",
    "# make a simple request\n",
    "\n",
    "response = requests.get(\"https://cdisc.org\")\n",
    "\n",
    "# The response object is how you work out whether your request worked. "
   ],
   "outputs": [],
   "metadata": {}
  },
  {
   "cell_type": "markdown",
   "source": [
    "## A Web Services Response \n",
    "\n",
    "The response object tells us how the request proceeeded; key attributes:\n",
    "* `status_code` - the status code returned by the web server\n",
    "* `text` - the text of the response\n",
    "* `json` - if the request returns a JSON structure, the JSON can be automatically converted "
   ],
   "metadata": {}
  },
  {
   "cell_type": "code",
   "execution_count": null,
   "source": [
    "# let's look at the response\n",
    "print(f\"Status Code: {response.status_code}\")\n",
    "\n",
    "if response.status_code == 200:\n",
    "    print(\"All ok\")\n"
   ],
   "outputs": [],
   "metadata": {}
  },
  {
   "cell_type": "code",
   "execution_count": null,
   "source": [
    "print(\"Let's look at what the website states it sent to the client\")\n",
    "\n",
    "print(f\"Content-type: {response.headers.get('Content-type')}\")\n",
    "\n",
    "print(\"Content, truncated: \", response.text[:300])"
   ],
   "outputs": [],
   "metadata": {}
  },
  {
   "cell_type": "code",
   "execution_count": null,
   "source": [
    "# What happens when we request a website or page that doesn't exist?\n",
    "\n",
    "bad_guy = requests.get(\"https://cdisc.org/say-no-to-xpt\")\n",
    "\n",
    "print(f\"Requesting {bad_guy.url} got a status code of {bad_guy.status_code}\")\n",
    "\n",
    "print(\"404 is the HTTP Status code for Not Found\")"
   ],
   "outputs": [],
   "metadata": {}
  },
  {
   "cell_type": "code",
   "execution_count": null,
   "source": [
    "# Always check your return codes \n",
    "\n",
    "if not 200 <= bad_guy.status_code <= 300:\n",
    "    print(\"Request failed\")\n"
   ],
   "outputs": [],
   "metadata": {}
  },
  {
   "cell_type": "code",
   "execution_count": null,
   "source": [
    "# Let's try and pull a more prevalent data transfer format, namely FHIR\n",
    "\n",
    "valuesets = requests.get(\"https://fhir.nhs.uk/ValueSet\")\n"
   ],
   "outputs": [],
   "metadata": {}
  },
  {
   "cell_type": "code",
   "execution_count": null,
   "source": [
    "# lets inspect the valuesets response\n",
    "print(f\"Requesting {valuesets.url} got a status of {valuesets.status_code}\")\n",
    "print(f\"Content type is {valuesets.headers.get('Content-type')}\")"
   ],
   "outputs": [],
   "metadata": {}
  },
  {
   "cell_type": "code",
   "execution_count": null,
   "source": [
    "print(\"Response content (truncated)\", valuesets.text[:300])"
   ],
   "outputs": [],
   "metadata": {}
  },
  {
   "cell_type": "code",
   "execution_count": null,
   "source": [
    "# XML is a popular exchange format, but it's not too fun to process -> let's request a JSON response\n",
    "\n",
    "# the request has a set of Headers that communicate directly to the Server, the set of headers is stand\n",
    "valuesets_json = requests.get(\"https://fhir.nhs.uk/ValueSet\", headers={\"Accept\": \"application/fhir+json\"})"
   ],
   "outputs": [],
   "metadata": {}
  },
  {
   "cell_type": "code",
   "execution_count": null,
   "source": [
    "# let's inspect the valuesets response\n",
    "print(f\"Requesting {valuesets_json.url} got a status of {valuesets_json.status_code}\")\n",
    "print(f\"Content type is {valuesets_json.headers.get('Content-type')}\")"
   ],
   "outputs": [],
   "metadata": {}
  },
  {
   "cell_type": "code",
   "execution_count": null,
   "source": [
    "# We can access the data as a python dict\n",
    "\n",
    "valueset_dict = valuesets_json.json()\n",
    "print(f\"Keys: {valueset_dict.keys()}\")"
   ],
   "outputs": [],
   "metadata": {}
  },
  {
   "cell_type": "code",
   "execution_count": null,
   "source": [
    "print(f\"ValueSet has {len(valueset_dict.get('entry'))} values\")"
   ],
   "outputs": [],
   "metadata": {}
  },
  {
   "cell_type": "code",
   "execution_count": null,
   "source": [
    "for vs in valueset_dict.get('entry'):\n",
    "    resource = vs.get('resource')\n",
    "    print(f\"{resource.get('id')} -> {resource.get('status')}\")\n"
   ],
   "outputs": [],
   "metadata": {}
  },
  {
   "cell_type": "markdown",
   "source": [
    "Now we know how to query web APIs, how to anticipate and handle errors and how to access the data.  Let's move on to a relevant web API to look at querying this using Python"
   ],
   "metadata": {}
  }
 ],
 "metadata": {
  "orig_nbformat": 4,
  "language_info": {
   "name": "python",
   "version": "3.9.6",
   "mimetype": "text/x-python",
   "codemirror_mode": {
    "name": "ipython",
    "version": 3
   },
   "pygments_lexer": "ipython3",
   "nbconvert_exporter": "python",
   "file_extension": ".py"
  },
  "kernelspec": {
   "name": "python3",
   "display_name": "Python 3.9.6 64-bit ('phuse-python-sde-sep2021-nm3hVWFa': pipenv)"
  },
  "interpreter": {
   "hash": "80005f1e69ed79cadee62d99146642845dc91d593a729d8cfdee00bf657c6910"
  }
 },
 "nbformat": 4,
 "nbformat_minor": 2
}