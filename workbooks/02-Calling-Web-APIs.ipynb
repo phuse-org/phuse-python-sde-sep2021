{
 "cells": [
  {
   "cell_type": "markdown",
   "source": [
    "# Calling Web Application Programming Interfaces (APIs)\n",
    "\n",
    "Many of the specifications we need (increasingly so) are not totally static.  Relying on a static file for importing specifications leaves us open to: \n",
    "* missing out on updates\n",
    "* inability to link/reuse \n",
    "\n",
    "\n",
    "Many of the core resources for Clinical Research standards management are available via the web using Universal Resource Locations (URL).  \n",
    "\n",
    "In general there is a request-response pattern for accessing web resources; we make a request to the service and get a response back.  Checking the response to make sure the request worked is key"
   ],
   "metadata": {}
  },
  {
   "cell_type": "code",
   "execution_count": 1,
   "source": [
    "# import a library for making web requeststs\n",
    "import requests\n",
    "\n",
    "# make a simple request\n",
    "\n",
    "response = requests.get(\"https://cdisc.org\")\n",
    "\n",
    "# The response object is how you work out whether your request worked. "
   ],
   "outputs": [],
   "metadata": {}
  },
  {
   "cell_type": "markdown",
   "source": [
    "## A Web Services Response \n",
    "\n",
    "The response object tells us how the request proceeeded; key attributes:\n",
    "* `status_code` - the status code returned by the web server\n",
    "* `text` - the text of the response\n",
    "* `json` - if the request returns a JSON structure, the JSON can be automatically converted "
   ],
   "metadata": {}
  },
  {
   "cell_type": "code",
   "execution_count": 2,
   "source": [
    "# let's look at the response\n",
    "print(f\"Status Code: {response.status_code}\")\n",
    "\n",
    "if response.status_code == 200:\n",
    "    print(\"All ok\")\n"
   ],
   "outputs": [
    {
     "output_type": "stream",
     "name": "stdout",
     "text": [
      "Status Code: 200\n",
      "All ok\n"
     ]
    }
   ],
   "metadata": {}
  },
  {
   "cell_type": "code",
   "execution_count": 3,
   "source": [
    "print(\"Let's look at what the website states it sent to the client\")\n",
    "\n",
    "print(f\"Content-type: {response.headers.get('Content-type')}\")\n",
    "\n",
    "print(\"Content, truncated: \", response.text[:300])"
   ],
   "outputs": [
    {
     "output_type": "stream",
     "name": "stdout",
     "text": [
      "Let's look at what the website states it sent to the client\n",
      "Content-type: text/html; charset=UTF-8\n",
      "Content, truncated:  <!DOCTYPE html>\n",
      "<html lang=\"en\" dir=\"ltr\" prefix=\"content: http://purl.org/rss/1.0/modules/content/  dc: http://purl.org/dc/terms/  foaf: http://xmlns.com/foaf/0.1/  og: http://ogp.me/ns#  rdfs: http://www.w3.org/2000/01/rdf-schema#  schema: http://schema.org/  sioc: http://rdfs.org/sioc/ns#  sioct:\n"
     ]
    }
   ],
   "metadata": {}
  },
  {
   "cell_type": "code",
   "execution_count": 1,
   "source": [
    "# What happens when we request a website or page that doesn't exist?\n",
    "\n",
    "bad_guy = requests.get(\"https://cdisc.org/say-no-to-xpt\")\n",
    "\n",
    "print(f\"Requesting {bad_guy.url} got a status code of {bad_guy.status_code}\")\n",
    "\n",
    "print(\"404 is the HTTP Status code for Not Found\")"
   ],
   "outputs": [
    {
     "output_type": "error",
     "ename": "NameError",
     "evalue": "name 'requests' is not defined",
     "traceback": [
      "\u001b[0;31m---------------------------------------------------------------------------\u001b[0m",
      "\u001b[0;31mNameError\u001b[0m                                 Traceback (most recent call last)",
      "\u001b[0;32m/var/folders/z1/3kzwj94d03j5vztrm8ll34_dw4fbzk/T/ipykernel_31400/161178907.py\u001b[0m in \u001b[0;36m<module>\u001b[0;34m\u001b[0m\n\u001b[1;32m      1\u001b[0m \u001b[0;31m# What happens when we request a website or page that doesn't exist?\u001b[0m\u001b[0;34m\u001b[0m\u001b[0;34m\u001b[0m\u001b[0;34m\u001b[0m\u001b[0m\n\u001b[1;32m      2\u001b[0m \u001b[0;34m\u001b[0m\u001b[0m\n\u001b[0;32m----> 3\u001b[0;31m \u001b[0mbad_guy\u001b[0m \u001b[0;34m=\u001b[0m \u001b[0mrequests\u001b[0m\u001b[0;34m.\u001b[0m\u001b[0mget\u001b[0m\u001b[0;34m(\u001b[0m\u001b[0;34m\"https://cdisc.org/say-no-to-xpt\"\u001b[0m\u001b[0;34m)\u001b[0m\u001b[0;34m\u001b[0m\u001b[0;34m\u001b[0m\u001b[0m\n\u001b[0m\u001b[1;32m      4\u001b[0m \u001b[0;34m\u001b[0m\u001b[0m\n\u001b[1;32m      5\u001b[0m \u001b[0mprint\u001b[0m\u001b[0;34m(\u001b[0m\u001b[0;34mf\"Requesting {bad_guy.url} got a status code of {bad_guy.status_code}\"\u001b[0m\u001b[0;34m)\u001b[0m\u001b[0;34m\u001b[0m\u001b[0;34m\u001b[0m\u001b[0m\n",
      "\u001b[0;31mNameError\u001b[0m: name 'requests' is not defined"
     ]
    }
   ],
   "metadata": {}
  },
  {
   "cell_type": "code",
   "execution_count": 5,
   "source": [
    "# Always check your return codes \n",
    "\n",
    "if not 200 <= bad_guy.status_code <= 300:\n",
    "    print(\"Request failed\")\n"
   ],
   "outputs": [
    {
     "output_type": "stream",
     "name": "stdout",
     "text": [
      "Request failed\n"
     ]
    }
   ],
   "metadata": {}
  },
  {
   "cell_type": "code",
   "execution_count": 6,
   "source": [
    "# Let's try and pull a more prevalent data transfer format, namely FHIR\n",
    "\n",
    "valuesets = requests.get(\"https://fhir.nhs.uk/ValueSet\")\n"
   ],
   "outputs": [],
   "metadata": {}
  },
  {
   "cell_type": "code",
   "execution_count": 7,
   "source": [
    "# lets inspect the valuesets response\n",
    "print(f\"Requesting {valuesets.url} got a status of {valuesets.status_code}\")\n",
    "print(f\"Content type is {valuesets.headers.get('Content-type')}\")"
   ],
   "outputs": [
    {
     "output_type": "stream",
     "name": "stdout",
     "text": [
      "Requesting https://fhir.nhs.uk/ValueSet got a status of 200\n",
      "Content type is application/xml+fhir;charset=utf-8\n"
     ]
    }
   ],
   "metadata": {}
  },
  {
   "cell_type": "code",
   "execution_count": 8,
   "source": [
    "print(\"Response content (truncated)\", valuesets.text[:300])"
   ],
   "outputs": [
    {
     "output_type": "stream",
     "name": "stdout",
     "text": [
      "Response content (truncated) <Bundle xmlns=\"http://hl7.org/fhir\"><id value=\"679004d4-cee9-4c74-a0db-5d5baedf4c92\"></id><type value=\"searchset\"></type><total value=\"31\"></total><link><relation value=\"self\"></relation><url value=\"http://fhir.nhs.uk/ValueSet\"></url></link><link><relation value=\"next\"></relation><url value=\"http://\n"
     ]
    }
   ],
   "metadata": {}
  },
  {
   "cell_type": "code",
   "execution_count": 9,
   "source": [
    "# XML is a popular exchange format, but it's not too fun to process -> let's request a JSON response\n",
    "\n",
    "# the request has a set of Headers that communicate directly to the Server, the set of headers is stand\n",
    "valuesets_json = requests.get(\"https://fhir.nhs.uk/ValueSet\", headers={\"Accept\": \"application/fhir+json\"})"
   ],
   "outputs": [],
   "metadata": {}
  },
  {
   "cell_type": "code",
   "execution_count": 32,
   "source": [
    "# let's inspect the valuesets response\n",
    "print(f\"Requesting {valuesets_json.url} got a status of {valuesets_json.status_code}\")\n",
    "print(f\"Content type is {valuesets_json.headers.get('Content-type')}\")"
   ],
   "outputs": [
    {
     "output_type": "stream",
     "name": "stdout",
     "text": [
      "Requesting https://fhir.nhs.uk/ValueSet got a status of 200\n",
      "Content type is application/json+fhir;charset=utf-8\n"
     ]
    }
   ],
   "metadata": {}
  },
  {
   "cell_type": "code",
   "execution_count": 10,
   "source": [
    "# We can access the data as a python dict\n",
    "\n",
    "valueset_dict = valuesets_json.json()\n",
    "print(f\"Keys: {valueset_dict.keys()}\")"
   ],
   "outputs": [
    {
     "output_type": "stream",
     "name": "stdout",
     "text": [
      "Keys: dict_keys(['resourceType', 'id', 'type', 'total', 'link', 'entry'])\n"
     ]
    }
   ],
   "metadata": {}
  },
  {
   "cell_type": "code",
   "execution_count": 11,
   "source": [
    "print(f\"ValueSet has {len(valueset_dict.get('entry'))} values\")"
   ],
   "outputs": [
    {
     "output_type": "stream",
     "name": "stdout",
     "text": [
      "ValueSet has 5 values\n"
     ]
    }
   ],
   "metadata": {}
  },
  {
   "cell_type": "code",
   "execution_count": 15,
   "source": [
    "for vs in valueset_dict.get('entry'):\n",
    "    resource = vs.get('resource')\n",
    "    print(f\"{resource.get('id')} -> {resource.get('status')}\")\n"
   ],
   "outputs": [
    {
     "output_type": "stream",
     "name": "stdout",
     "text": [
      "document-type-codes-snct-1 -> active\n",
      "spine-error-or-warning-code-1 -> active\n",
      "CareConnect-LanguageAbilityMode-1 -> active\n",
      "message-event-1-0 -> active\n",
      "spine-chargeable-status-1 -> draft\n"
     ]
    }
   ],
   "metadata": {}
  },
  {
   "cell_type": "markdown",
   "source": [
    "Now we know how to query web APIs, how to anticipate and handle errors and how to access the data.  Let's move on to a relevant web API to look at querying this using Python"
   ],
   "metadata": {}
  }
 ],
 "metadata": {
  "orig_nbformat": 4,
  "language_info": {
   "name": "python",
   "version": "3.9.6",
   "mimetype": "text/x-python",
   "codemirror_mode": {
    "name": "ipython",
    "version": 3
   },
   "pygments_lexer": "ipython3",
   "nbconvert_exporter": "python",
   "file_extension": ".py"
  },
  "kernelspec": {
   "name": "python3",
   "display_name": "Python 3.9.6 64-bit ('phuse-python-sde-sep2021-nm3hVWFa': pipenv)"
  },
  "interpreter": {
   "hash": "80005f1e69ed79cadee62d99146642845dc91d593a729d8cfdee00bf657c6910"
  }
 },
 "nbformat": 4,
 "nbformat_minor": 2
}